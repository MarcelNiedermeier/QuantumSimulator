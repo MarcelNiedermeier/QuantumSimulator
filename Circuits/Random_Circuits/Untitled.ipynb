{
 "cells": [
  {
   "cell_type": "code",
   "execution_count": 37,
   "metadata": {},
   "outputs": [],
   "source": [
    "import numpy as np\n",
    "from matplotlib import pyplot as plt\n",
    "import pandas as pd\n",
    "from scipy import stats"
   ]
  },
  {
   "cell_type": "code",
   "execution_count": 21,
   "metadata": {},
   "outputs": [
    {
     "data": {
      "text/plain": [
       "array([0.  , 0.26, 0.41, 0.52, 0.57, 0.6 , 0.64, 0.68, 0.7 , 0.72, 0.75,\n",
       "       0.76, 0.78, 0.81, 0.83, 0.83, 0.83, 0.83, 0.84, 0.84, 0.85, 0.87,\n",
       "       0.88, 0.88, 0.88, 0.93, 0.93, 0.93, 0.93, 0.93, 0.93, 0.94, 0.94,\n",
       "       0.94, 0.94, 0.94, 0.96, 0.96, 0.96, 0.96, 0.96, 0.97, 0.97, 0.97,\n",
       "       0.97, 0.97, 0.97, 0.97, 0.97, 0.97, 0.97, 0.97, 0.97, 0.97, 0.97,\n",
       "       0.97, 0.97, 0.97, 0.97, 0.97, 0.97, 0.97, 0.97, 0.97, 0.97, 0.97,\n",
       "       0.97, 0.98, 0.98, 0.98, 0.98, 0.98, 0.98, 0.98, 0.98, 0.98, 0.98,\n",
       "       0.98, 0.98, 0.98, 0.98, 0.98, 0.98, 0.98, 0.98, 0.98, 0.98, 0.98,\n",
       "       0.98, 0.98, 0.98, 0.98, 0.99, 0.99, 0.99, 0.99, 0.99, 0.99, 0.99,\n",
       "       0.99])"
      ]
     },
     "execution_count": 21,
     "metadata": {},
     "output_type": "execute_result"
    }
   ],
   "source": [
    "data = np.loadtxt('random_circuit_MPS_DM_test.csv', delimiter=',')\n",
    "data[1]"
   ]
  },
  {
   "cell_type": "code",
   "execution_count": 33,
   "metadata": {},
   "outputs": [],
   "source": [
    "def porter_thomas2(x, N):\n",
    "    return N*np.exp(-N*x)\n",
    "\n",
    "def porter_thomas(x, N):\n",
    "    return 1 - (1 - x)**(2**N -1)"
   ]
  },
  {
   "cell_type": "code",
   "execution_count": 36,
   "metadata": {},
   "outputs": [
    {
     "data": {
      "image/png": "[encoded data removed]",
      "text/plain": [
       "<Figure size 432x288 with 1 Axes>"
      ]
     },
     "metadata": {
      "needs_background": "light"
     },
     "output_type": "display_data"
    }
   ],
   "source": [
    "N = 12\n",
    "N_sample = len(data[1])\n",
    "\n",
    "x_prob = np.linspace(0, 10, N_sample)\n",
    "PT_prob = porter_thomas(2**(-N)*x_prob, N)\n",
    "#PT_prob = porter_thomas(x_prob, N)\n",
    "plt.plot(x_prob, data[0], label=\"MPS\")\n",
    "plt.plot(x_prob, data[1], label=\"DM\")\n",
    "plt.plot(x_prob, PT_prob, label=\"Porter-Thomas\")\n",
    "plt.xlabel(\"ρ\")\n",
    "plt.ylabel(\"P(p < ρ)\")\n",
    "plt.legend()\n",
    "plt.show()"
   ]
  },
  {
   "cell_type": "code",
   "execution_count": 44,
   "metadata": {},
   "outputs": [
    {
     "data": {
      "text/plain": [
       "1.0245697148897385e-13"
      ]
     },
     "execution_count": 44,
     "metadata": {},
     "output_type": "execute_result"
    }
   ],
   "source": [
    "res = stats.ks_2samp(data[0], data[1])\n",
    "res = stats.ks_2samp(data[1], PT_prob)\n",
    "pvalue = res.pvalue # if larger than 0.05, conclude same distribution\n",
    "pvalue"
   ]
  },
  {
   "cell_type": "code",
   "execution_count": null,
   "metadata": {},
   "outputs": [],
   "source": []
  }
 ],
 "metadata": {
  "kernelspec": {
   "display_name": "Python 3",
   "language": "python",
   "name": "python3"
  },
  "language_info": {
   "codemirror_mode": {
    "name": "ipython",
    "version": 3
   },
   "file_extension": ".py",
   "mimetype": "text/x-python",
   "name": "python",
   "nbconvert_exporter": "python",
   "pygments_lexer": "ipython3",
   "version": "3.8.10"
  }
 },
 "nbformat": 4,
 "nbformat_minor": 4
}
